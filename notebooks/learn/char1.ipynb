{
 "cells": [
  {
   "cell_type": "code",
   "execution_count": 1,
   "id": "10ba3ace",
   "metadata": {},
   "outputs": [
    {
     "name": "stdout",
     "output_type": "stream",
     "text": [
      "True\n",
      "1\n"
     ]
    }
   ],
   "source": [
    "import sys\n",
    "import os\n",
    "from pathlib import Path\n",
    "\n",
    "# 获取当前工作目录，然后向上导航到 src 目录\n",
    "current_dir = Path(os.getcwd())\n",
    "# 假设当前在 code/src/learn 目录下，需要回到 code/src\n",
    "src_path = current_dir.parent if current_dir.name == \"learn\" else current_dir\n",
    "sys.path.insert(0, str(src_path))\n",
    "\n",
    "from pprint import pprint  # noqa: E402\n",
    "from utils.model import base  # noqa: E402\n",
    "import numpy as np  # noqa: E402\n",
    "import time  # noqa: E402\n",
    "\n",
    "import torch.nn as nn  # noqa: E402\n",
    "import torch  # noqa: E402\n",
    "import torchvision.datasets as datasets  # noqa: E402\n",
    "\n",
    "pprint(torch.cuda.is_available())\n",
    "pprint(torch.cuda.device_count())"
   ]
  },
  {
   "cell_type": "code",
   "execution_count": null,
   "id": "09092102",
   "metadata": {},
   "outputs": [],
   "source": [
    "from torch.utils.data import TensorDataset, DataLoader\n",
    "# --- 1. 定义具体的模型 ---\n",
    "class LinearRegression(base.ModernModule):\n",
    "    def __init__(self, config: base.ModelConfig):\n",
    "        super().__init__(config)\n",
    "        # 实际的网络\n",
    "        self.net = nn.LazyLinear(1)\n",
    "        # 初始化权重\n",
    "        self.net.weight.data.normal_(0, 0.01)\n",
    "        self.net.bias.data.fill_(0)\n",
    "\n",
    "    def loss(self, y_hat, y):\n",
    "        # 均方误差损失\n",
    "        return nn.functional.mse_loss(y_hat, y.reshape(y_hat.shape))\n",
    "\n",
    "# --- 2. 准备数据 (示例) ---\n",
    "true_w = torch.tensor([2, -3.4])\n",
    "true_b = 4.2\n",
    "X = torch.randn(1000, 2)\n",
    "y = torch.mv(X, true_w) + true_b\n",
    "y += torch.randn(y.shape)\n",
    "dataset = TensorDataset(X, y)\n",
    "train_loader = DataLoader(dataset, batch_size=32, shuffle=True)\n",
    "val_loader = DataLoader(dataset, batch_size=32)\n",
    "\n",
    "# --- 3. 组装并开始训练 ---\n",
    "# 创建配置\n",
    "config = base.ModelConfig(lr=0.03)\n",
    "# 创建模型\n",
    "model = LinearRegression(config)\n",
    "# 创建回调\n",
    "plotting_callback =base.PlottingCallback()\n",
    "# 创建训练器\n",
    "trainer = base.Trainer(max_epochs=5, callbacks=[plotting_callback])\n",
    "\n",
    "# 开始训练！\n",
    "trainer.fit(model, train_loader, val_loader)"
   ]
  },
  {
   "cell_type": "code",
   "execution_count": 2,
   "id": "0b358626",
   "metadata": {},
   "outputs": [],
   "source": [
    "class SoftMaxRegression(base.ModernModule):\n",
    "    def __init__(self, config: base.ModelConfig):\n",
    "        super().__init__(config)\n",
    "        self.net = nn.Sequential(\n",
    "            nn.Flatten(),\n",
    "            nn.LazyLinear(10),  # 假设有10个类别\n",
    "        )\n",
    "\n",
    "    def loss(self, y_hat, y):\n",
    "        # 使用交叉熵损失\n",
    "        return nn.functional.cross_entropy(y_hat, y)\n",
    "\n",
    "    def predict(self, X):\n",
    "        # 返回预测的类别\n",
    "        return self.net(X).argmax(dim=1)\n",
    "\n",
    "    def predict_class(self, X):\n",
    "        # 返回预测的类别\n",
    "        return self.predict(X).item()\n",
    "\n",
    "    def evaluate(self, X, y):\n",
    "        # 评估模型性能\n",
    "        # 整体正确率 - FP - FN - F1score - AUC\n",
    "        with torch.no_grad():\n",
    "            y_hat = self.net(X)\n",
    "            loss = self.loss(y_hat, y)\n",
    "            predicted_class = self.predict(X)\n",
    "            accuracy = (predicted_class == y).float().mean().item()\n",
    "            return {\n",
    "                \"loss\": loss.item(),\n",
    "                \"accuracy\": accuracy,\n",
    "                \"predicted_class\": predicted_class,\n",
    "            }\n",
    "\n",
    "\n",
    "datapath = \"../../data/\"\n"
   ]
  },
  {
   "cell_type": "code",
   "execution_count": 3,
   "id": "a7aafd8b",
   "metadata": {},
   "outputs": [],
   "source": [
    "class MLPSoftMax(base.ModernModule):\n",
    "    def __init__(self, config: base.ModelConfig):\n",
    "        super().__init__(config)\n",
    "        self.net = nn.Sequential(\n",
    "            nn.Flatten(),\n",
    "            nn.LazyLinear(config.num_hiddens),\n",
    "            nn.ReLU(),\n",
    "            nn.LazyLinear(config.output_size), \n",
    "        )\n",
    "        \n",
    "    def loss(self, y_hat, y):\n",
    "        # 使用交叉熵损失\n",
    "        return nn.functional.cross_entropy(y_hat, y)\n",
    "\n",
    "    def predict(self, X):\n",
    "        # 返回预测的类别\n",
    "        return self.net(X).argmax(dim=1)\n",
    "\n",
    "    def predict_class(self, X):\n",
    "        # 返回预测的类别\n",
    "        return self.predict(X).item()\n",
    "\n",
    "    def evaluate(self, X, y):\n",
    "        # 评估模型性能\n",
    "        # 整体正确率 - FP - FN - F1score - AUC\n",
    "        with torch.no_grad():\n",
    "            y_hat = self.net(X)\n",
    "            loss = self.loss(y_hat, y)\n",
    "            predicted_class = self.predict(X)\n",
    "            accuracy = (predicted_class == y).float().mean().item()\n",
    "            return {\n",
    "                \"loss\": loss.item(),\n",
    "                \"accuracy\": accuracy,\n",
    "                \"predicted_class\": predicted_class,\n",
    "            }\n"
   ]
  },
  {
   "cell_type": "code",
   "execution_count": 4,
   "id": "f6886c31",
   "metadata": {},
   "outputs": [
    {
     "name": "stdout",
     "output_type": "stream",
     "text": [
      "['cuda:0']\n"
     ]
    }
   ],
   "source": [
    "from torch.utils.data import DataLoader\n",
    "from torchvision import transforms\n",
    "from utils.model.base import ModelConfig\n",
    "# Fashion MNIST 数据集的预处理\n",
    "transformer = transforms.Compose(\n",
    "    [\n",
    "        transforms.ToTensor(),  # 将PIL图像转换为Tensor\n",
    "        transforms.Normalize((0.2860,), (0.3530,)),  # 标准化处理\n",
    "    ]\n",
    ")\n",
    "\n",
    "# 从torchvision加载fashion MNIST数据集\n",
    "fashion_mnist_train = datasets.FashionMNIST(\n",
    "    root=datapath,\n",
    "    train=True,\n",
    "    download=True,\n",
    "    transform=transformer,  # 应用预处理\n",
    ")\n",
    "fashion_mnist_test = datasets.FashionMNIST(\n",
    "    root=datapath,\n",
    "    train=False,\n",
    "    download=True,\n",
    "    transform=transformer,  # 应用预处理\n",
    ")\n",
    "\n",
    "num_classes = len(fashion_mnist_train.classes)\n",
    "pprint(ModelConfig.available_devices())"
   ]
  },
  {
   "cell_type": "code",
   "execution_count": 9,
   "id": "2691a9d1",
   "metadata": {},
   "outputs": [
    {
     "name": "stdout",
     "output_type": "stream",
     "text": [
      "🔧 GPU诊断:\n",
      "GPU 0: NVIDIA GeForce RTX 4060\n",
      "NVML检测到的GPU数量: 1\n",
      "NVML GPU 0: NVIDIA GeForce RTX 4060\n"
     ]
    }
   ],
   "source": [
    "# 强制检测GPU\n",
    "import torch\n",
    "import os\n",
    "\n",
    "print(\"🔧 GPU诊断:\")\n",
    "\n",
    "# 检查所有可能的GPU\n",
    "for i in range(10):  # 检查前10个可能的设备\n",
    "    try:\n",
    "        device = torch.cuda.device(i)\n",
    "        print(f\"GPU {i}: {torch.cuda.get_device_name(i)}\")\n",
    "    except:\n",
    "        break\n",
    "\n",
    "# 检查NVIDIA-ML-PY (如果安装了)\n",
    "try:\n",
    "    import pynvml\n",
    "    pynvml.nvmlInit()\n",
    "    device_count = pynvml.nvmlDeviceGetCount()\n",
    "    print(f\"NVML检测到的GPU数量: {device_count}\")\n",
    "    \n",
    "    for i in range(device_count):\n",
    "        handle = pynvml.nvmlDeviceGetHandleByIndex(i)\n",
    "        name = pynvml.nvmlDeviceGetName(handle)\n",
    "        print(f\"NVML GPU {i}: {name}\")\n",
    "except ImportError:\n",
    "    print(\"pynvml未安装，无法进行NVML检测\")\n",
    "except Exception as e:\n",
    "    print(f\"NVML检测失败: {e}\")"
   ]
  },
  {
   "cell_type": "code",
   "execution_count": 11,
   "id": "8307c50d",
   "metadata": {},
   "outputs": [
    {
     "name": "stdout",
     "output_type": "stream",
     "text": [
      "📊 数据加载器信息:\n",
      "   训练批次数: 1875\n",
      "   验证批次数: 313\n",
      "   批次大小: 32\n",
      "   输出类别数: 10\n",
      "'🛠️ 模型配置:'\n",
      "device(type='cuda', index=0)\n",
      "device(type='cuda', index=0)\n"
     ]
    }
   ],
   "source": [
    "\n",
    "config = base.ModelConfig(\n",
    "    lr=0.03,\n",
    "    num_hiddens=256,\n",
    "    output_size=num_classes,  # 输出类别数\n",
    "    self_device = \"cuda:0\"\n",
    ")\n",
    "\n",
    "# 创建数据加载器\n",
    "train_loader = DataLoader(fashion_mnist_train, batch_size=32, shuffle=True)\n",
    "val_loader = DataLoader(fashion_mnist_test, batch_size=32, shuffle=False)\n",
    "model_linear = SoftMaxRegression(config)\n",
    "model_mlp = MLPSoftMax(config)\n",
    "\n",
    "print(\"📊 数据加载器信息:\")\n",
    "print(f\"   训练批次数: {len(train_loader)}\")\n",
    "print(f\"   验证批次数: {len(val_loader)}\")\n",
    "print(\"   批次大小: 32\")\n",
    "print(f\"   输出类别数: {num_classes}\")\n",
    "\n",
    "pprint(\"🛠️ 模型配置:\")\n",
    "pprint(model_linear.self_device)\n",
    "pprint(model_mlp.self_device)"
   ]
  },
  {
   "cell_type": "code",
   "execution_count": 12,
   "id": "2eb5c68c",
   "metadata": {},
   "outputs": [],
   "source": [
    "trainer = base.Trainer(max_epochs=5, callbacks=base.DefaultCallbacks.with_live_loss())"
   ]
  },
  {
   "cell_type": "code",
   "execution_count": 13,
   "id": "d1c18e38",
   "metadata": {},
   "outputs": [
    {
     "data": {
      "image/png": "[encoded data removed]",
      "text/plain": [
       "<Figure size 1200x800 with 2 Axes>"
      ]
     },
     "metadata": {},
     "output_type": "display_data"
    },
    {
     "name": "stdout",
     "output_type": "stream",
     "text": [
      "Loss\n",
      "\ttraining         \t (min:    0.436, max:    0.535, cur:    0.436)\n",
      "\tvalidation       \t (min:    0.461, max:    0.660, cur:    0.481)\n",
      "✅ 训练完成！总用时: 1.8 分钟\n"
     ]
    }
   ],
   "source": [
    "trainer.fit(model_linear, train_loader, val_loader)"
   ]
  },
  {
   "cell_type": "code",
   "execution_count": 14,
   "id": "6a0e51d0",
   "metadata": {},
   "outputs": [
    {
     "name": "stdout",
     "output_type": "stream",
     "text": [
      "📊 模型评估:\n",
      "   评估结果: {'loss': 0.4807618260383606, 'accuracy': 0.833299994468689, 'predicted_class': tensor([9, 2, 1,  ..., 8, 1, 5])}\n"
     ]
    }
   ],
   "source": [
    "# 评估模型\n",
    "print(\"📊 模型评估:\"\n",
    "      )\n",
    "eval_results = model_linear.evaluate(\n",
    "    torch.stack([x for x, _ in fashion_mnist_test]),\n",
    "    torch.tensor([y for _, y in fashion_mnist_test])\n",
    ")\n",
    "print(\"   评估结果:\", eval_results)"
   ]
  },
  {
   "cell_type": "code",
   "execution_count": 20,
   "id": "6ec73266",
   "metadata": {},
   "outputs": [
    {
     "data": {
      "image/png": "[encoded data removed]",
      "text/plain": [
       "<Figure size 1200x800 with 2 Axes>"
      ]
     },
     "metadata": {},
     "output_type": "display_data"
    },
    {
     "name": "stdout",
     "output_type": "stream",
     "text": [
      "Loss\n",
      "\ttraining         \t (min:    0.292, max:    0.501, cur:    0.292)\n",
      "\tvalidation       \t (min:    0.339, max:    0.422, cur:    0.339)\n",
      "✅ 训练完成！总用时: 1.4 分钟\n"
     ]
    }
   ],
   "source": [
    "mlp_trainer = base.Trainer(max_epochs=5, callbacks=base.DefaultCallbacks.with_live_loss())\n",
    "model_mlp.to(model_mlp.self_device)  # 确保模型在正确的设备上\n",
    "pprint(model_mlp.self_device)\n",
    "pprint(model_linear.self_device)\n",
    "# 创建一个辅助函数将DataLoader的数据转移到GPU\n",
    "def create_gpu_dataloader(dataloader, device):\n",
    "    \"\"\"创建一个自动将数据移动到GPU的DataLoader包装器\"\"\"\n",
    "    class GPUDataLoader:\n",
    "        def __init__(self, dataloader, device):\n",
    "            self.dataloader = dataloader\n",
    "            self.device = device\n",
    "        \n",
    "        def __iter__(self):\n",
    "            for batch in self.dataloader:\n",
    "                # 将batch中的所有tensor移动到GPU\n",
    "                yield tuple(item.to(self.device) if torch.is_tensor(item) else item for item in batch)\n",
    "        \n",
    "        def __len__(self):\n",
    "            return len(self.dataloader)\n",
    "    \n",
    "    return GPUDataLoader(dataloader, device)\n",
    "\n",
    "# 使用GPU DataLoader\n",
    "gpu_train_loader = create_gpu_dataloader(train_loader, \"cuda:0\")\n",
    "gpu_val_loader = create_gpu_dataloader(val_loader, \"cuda:0\")\n",
    "\n",
    "mlp_trainer = base.Trainer(max_epochs=5, callbacks=base.DefaultCallbacks.with_live_loss())\n",
    "model_mlp = model_mlp.to(\"cuda:0\")\n",
    "mlp_trainer.fit(model_mlp, gpu_train_loader, gpu_val_loader)"
   ]
  },
  {
   "cell_type": "code",
   "execution_count": 28,
   "id": "68091f52",
   "metadata": {},
   "outputs": [
    {
     "name": "stdout",
     "output_type": "stream",
     "text": [
      "📊 模型评估:\n",
      "模型在设备cuda:0上评估完成。\n",
      "数据集在设备cpu上评估完成。\n"
     ]
    }
   ],
   "source": [
    "print(\"📊 模型评估:\"\n",
    "      )\n",
    "# eval_results = model_mlp.evaluate(\n",
    "#     torch.stack([x for x, _ in fashion_mnist_test]),\n",
    "#     torch.tensor([y for _, y in fashion_mnist_test])\n",
    "# )\n",
    "# print(\"   评估结果:\", eval_results)\n",
    "print(\"模型在设备\" + str(next(model_mlp.parameters()).device) + \"上评估完成。\")\n",
    "print(\"数据集在设备\" + str(torch.tensor([y for _, y in fashion_mnist_test]).device) + \"上评估完成。\")"
   ]
  },
  {
   "cell_type": "code",
   "execution_count": 22,
   "id": "b79a9d6c",
   "metadata": {},
   "outputs": [
    {
     "name": "stdout",
     "output_type": "stream",
     "text": [
      "GPU可用，正在释放GPU内存...\n",
      "NVIDIA GeForce RTX 4060\n"
     ]
    }
   ],
   "source": [
    "if torch.cuda.is_available():\n",
    "    print(\"GPU可用，正在释放GPU内存...\")\n",
    "    nums_gpus = torch.cuda.device_count()\n",
    "    for i in range(nums_gpus):\n",
    "        print(torch.cuda.get_device_name(i))\n",
    "        \n",
    "else:\n",
    "    print(\"没有可用的GPU，使用CPU进行训练。\")\n",
    "    \n"
   ]
  },
  {
   "cell_type": "code",
   "execution_count": 24,
   "id": "1fdf4b5e",
   "metadata": {},
   "outputs": [
    {
     "name": "stdout",
     "output_type": "stream",
     "text": [
      "已设置当前GPU为: NVIDIA GeForce RTX 4060 (设备ID: 0)\n"
     ]
    }
   ],
   "source": [
    "gpu_id = 0\n",
    "torch.cuda.set_device(gpu_id)\n",
    "print(f\"已设置当前GPU为: {torch.cuda.get_device_name(gpu_id)} (设备ID: {gpu_id})\")"
   ]
  },
  {
   "cell_type": "code",
   "execution_count": 25,
   "id": "9de342bb",
   "metadata": {},
   "outputs": [
    {
     "name": "stdout",
     "output_type": "stream",
     "text": [
      "张量在设备上: cuda:0\n",
      "模型在设备上: cuda:0\n"
     ]
    }
   ],
   "source": [
    "tensor = torch.randn(100, 100).to(gpu_id)\n",
    "class SimpleModel(nn.Module):\n",
    "    def __init__(self):\n",
    "        super(SimpleModel, self).__init__()\n",
    "        self.net = nn.Linear(100, 10)\n",
    "\n",
    "    def forward(self, x):\n",
    "        return self.net(x)\n",
    "\n",
    "model = SimpleModel().cuda(gpu_id)\n",
    "\n",
    "print(\"张量在设备上:\", tensor.device)\n",
    "print(\"模型在设备上:\", next(model.parameters()).device)"
   ]
  }
 ],
 "metadata": {
  "kernelspec": {
   "display_name": "code",
   "language": "python",
   "name": "python3"
  },
  "language_info": {
   "codemirror_mode": {
    "name": "ipython",
    "version": 3
   },
   "file_extension": ".py",
   "mimetype": "text/x-python",
   "name": "python",
   "nbconvert_exporter": "python",
   "pygments_lexer": "ipython3",
   "version": "3.13.0"
  }
 },
 "nbformat": 4,
 "nbformat_minor": 5
}
